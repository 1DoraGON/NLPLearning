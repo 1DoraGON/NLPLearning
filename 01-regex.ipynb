{
 "cells": [
  {
   "cell_type": "code",
   "execution_count": 2,
   "id": "0bbaf97d",
   "metadata": {},
   "outputs": [],
   "source": [
    "import re"
   ]
  },
  {
   "cell_type": "code",
   "execution_count": 9,
   "id": "98f50a14",
   "metadata": {},
   "outputs": [
    {
     "data": {
      "text/plain": [
       "'Pretoria, Transvaal, South Africa'"
      ]
     },
     "execution_count": 9,
     "metadata": {},
     "output_type": "execute_result"
    }
   ],
   "source": [
    "char1 = \"\"\"hello 1234567897 this is it (123)-123-1234 and \n",
    "        email aXyf55@GggeA.com  hello order of\n",
    "        something you dont know \n",
    "        ²²²²123456\"\"\"\n",
    "text = \"\"\"Born\tElon Reeve Musk\n",
    "        June 28, 1971 (age 51)\n",
    "        Pretoria, Transvaal, South Africa\n",
    "        Education\tUniversity of Pennsylvania (BA, BS)\n",
    "        Title\t\n",
    "        Founder, CEO and chief engineer of SpaceX\n",
    "        CEO and product architect of Tesla, Inc.\n",
    "        CEO of Twitter, Inc.\n",
    "        President of the Musk Foundation\n",
    "        Founder of The Boring Company and X.com (now part of PayPal)\n",
    "        Co-founder of Neuralink, OpenAI and Zip2\n",
    "        Spouses\t\n",
    "        Justine Wilson\n",
    "        ​\n",
    "        ​(m. 2000; div. 2008)​\n",
    "        Talulah Riley\n",
    "        ​\n",
    "        ​(m. 2010; div. 2012)​\n",
    "        ​\n",
    "        ​(m. 2013; div. 2016)​\n",
    "        Partner\tGrimes (2018–2021)[1]\n",
    "        Children\t10[a][3]\n",
    "        Parents\t\n",
    "        Errol Musk\n",
    "        Maye Musk\n",
    "        Family\tMusk family\n",
    "        Awards\tList of honors and awards\"\"\"\n",
    "pattern = '\\d{10}|\\(\\d{3}\\)-\\d{3}-\\d{4}'\n",
    "pattern2 =\"[a-z0-9A-Z_]*@[a-zA-Z]*\\.[a-zA-Z]*\"\n",
    "pattern3 = \"order[^\\d]*(\\d*)\"\n",
    "age = \"age (\\d+)\"\n",
    "name=\"Born(.*)\\n\"\n",
    "born_time=\"Born.*\\n(.*)\\(age\"\n",
    "born_place =\"age.*\\n(.*)\"\n",
    "re.findall(born_place,text)[0].strip()"
   ]
  },
  {
   "cell_type": "code",
   "execution_count": null,
   "id": "dbfd64a3",
   "metadata": {},
   "outputs": [],
   "source": []
  }
 ],
 "metadata": {
  "kernelspec": {
   "display_name": "Python 3 (ipykernel)",
   "language": "python",
   "name": "python3"
  },
  "language_info": {
   "codemirror_mode": {
    "name": "ipython",
    "version": 3
   },
   "file_extension": ".py",
   "mimetype": "text/x-python",
   "name": "python",
   "nbconvert_exporter": "python",
   "pygments_lexer": "ipython3",
   "version": "3.10.6"
  }
 },
 "nbformat": 4,
 "nbformat_minor": 5
}
