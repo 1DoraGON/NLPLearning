{
 "cells": [
  {
   "cell_type": "code",
   "execution_count": 1,
   "id": "0bbaf97d",
   "metadata": {},
   "outputs": [],
   "source": [
    "import re"
   ]
  },
  {
   "cell_type": "code",
   "execution_count": 18,
   "id": "98f50a14",
   "metadata": {},
   "outputs": [
    {
     "data": {
      "text/plain": [
       "['123']"
      ]
     },
     "execution_count": 18,
     "metadata": {},
     "output_type": "execute_result"
    }
   ],
   "source": [
    "char1 = \"\"\"hello 1234567897 this is it (123)-123-1234 and \n",
    "        email aXyf55@GggeA.com  hello order of\n",
    "        something you dont know \n",
    "        ²²²²123456\"\"\"\n",
    "pattern = '\\d{10}|\\(\\d{3}\\)-\\d{3}-\\d{4}'\n",
    "pattern2 =\"[a-z0-9A-Z_]*@[a-zA-Z]*\\.[a-zA-Z]*\"\n",
    "pattern3 = \"order[^\\d]*(\\d*)\"\n",
    "re.findall(pattern3,char1)"
   ]
  },
  {
   "cell_type": "code",
   "execution_count": null,
   "id": "ba6daca0",
   "metadata": {},
   "outputs": [],
   "source": []
  }
 ],
 "metadata": {
  "kernelspec": {
   "display_name": "Python 3 (ipykernel)",
   "language": "python",
   "name": "python3"
  },
  "language_info": {
   "codemirror_mode": {
    "name": "ipython",
    "version": 3
   },
   "file_extension": ".py",
   "mimetype": "text/x-python",
   "name": "python",
   "nbconvert_exporter": "python",
   "pygments_lexer": "ipython3",
   "version": "3.10.6"
  }
 },
 "nbformat": 4,
 "nbformat_minor": 5
}
